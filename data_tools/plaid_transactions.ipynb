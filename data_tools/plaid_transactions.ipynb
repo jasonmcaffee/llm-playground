{
 "cells": [
  {
   "cell_type": "code",
   "execution_count": 10,
   "outputs": [
    {
     "name": "stdout",
     "output_type": "stream",
     "text": [
      "<class 'pandas.core.frame.DataFrame'>\n",
      "RangeIndex: 100 entries, 0 to 99\n",
      "Data columns (total 23 columns):\n",
      " #   Column                     Non-Null Count  Dtype  \n",
      "---  ------                     --------------  -----  \n",
      " 0   account_id                 100 non-null    object \n",
      " 1   account_owner              0 non-null      object \n",
      " 2   amount                     100 non-null    float64\n",
      " 3   authorized_date            56 non-null     object \n",
      " 4   authorized_datetime        0 non-null      object \n",
      " 5   category                   100 non-null    object \n",
      " 6   category_id                100 non-null    object \n",
      " 7   check_number               0 non-null      object \n",
      " 8   date                       100 non-null    object \n",
      " 9   datetime                   0 non-null      object \n",
      " 10  iso_currency_code          100 non-null    object \n",
      " 11  location                   100 non-null    object \n",
      " 12  merchant_name              43 non-null     object \n",
      " 13  name                       100 non-null    object \n",
      " 14  payment_channel            100 non-null    object \n",
      " 15  payment_meta               100 non-null    object \n",
      " 16  pending                    100 non-null    bool   \n",
      " 17  pending_transaction_id     0 non-null      object \n",
      " 18  personal_finance_category  100 non-null    object \n",
      " 19  transaction_code           0 non-null      object \n",
      " 20  transaction_id             100 non-null    object \n",
      " 21  transaction_type           100 non-null    object \n",
      " 22  unofficial_currency_code   0 non-null      object \n",
      "dtypes: bool(1), float64(1), object(21)\n",
      "memory usage: 17.4+ KB\n"
     ]
    }
   ],
   "source": [
    "import json\n",
    "import pandas as pd\n",
    "\n",
    "with open ('../datasets/plaid_transactions.json') as json_data:\n",
    "    data = json.load(json_data)\n",
    "    transactions_df = pd.DataFrame(data['transactions'])\n",
    "\n",
    "transactions_df.info()"
   ],
   "metadata": {
    "collapsed": false,
    "pycharm": {
     "name": "#%%\n"
    }
   }
  },
  {
   "cell_type": "code",
   "execution_count": 11,
   "outputs": [
    {
     "name": "stdout",
     "output_type": "stream",
     "text": [
      "['LOAN_PAYMENTS_CREDIT_CARD_PAYMENT'\n",
      " 'TRANSPORTATION_TAXIS_AND_RIDE_SHARES' 'RENT_AND_UTILITIES_RENT'\n",
      " 'TRANSFER_OUT_SAVINGS' 'PERSONAL_CARE_GYMS_AND_FITNESS_CENTERS'\n",
      " 'TRAVEL_FLIGHTS' 'FOOD_AND_DRINK_FAST_FOOD' 'FOOD_AND_DRINK_COFFEE'\n",
      " 'FOOD_AND_DRINK_RESTAURANT' 'TRANSFER_IN_ACCOUNT_TRANSFER'\n",
      " 'GENERAL_MERCHANDISE_SPORTING_GOODS']\n",
      "['LOAN_PAYMENTS' 'TRANSPORTATION' 'RENT_AND_UTILITIES' 'TRANSFER_OUT'\n",
      " 'PERSONAL_CARE' 'TRAVEL' 'FOOD_AND_DRINK' 'TRANSFER_IN'\n",
      " 'GENERAL_MERCHANDISE']\n"
     ]
    }
   ],
   "source": [
    "# unique categories\n",
    "detailed_category = transactions_df['personal_finance_category'].apply(lambda x: x['detailed'])\n",
    "primary_category = transactions_df['personal_finance_category'].apply(lambda x: x['primary'])\n",
    "unique_detailed_categories = detailed_category.unique()\n",
    "unique_primary_categories = primary_category.unique()\n",
    "print(unique_detailed_categories)\n",
    "print(unique_primary_categories)"
   ],
   "metadata": {
    "collapsed": false,
    "pycharm": {
     "name": "#%%\n"
    }
   }
  },
  {
   "cell_type": "code",
   "execution_count": 18,
   "outputs": [
    {
     "data": {
      "text/plain": "primary_category\nFOOD_AND_DRINK          151.432500\nGENERAL_MERCHANDISE     500.000000\nLOAN_PAYMENTS            25.000000\nPERSONAL_CARE            78.500000\nRENT_AND_UTILITIES     2455.041667\nTRANSFER_IN              -4.220000\nTRANSFER_OUT           1000.000000\nTRANSPORTATION            5.829231\nTRAVEL                    0.000000\nName: amount, dtype: float64"
     },
     "execution_count": 18,
     "metadata": {},
     "output_type": "execute_result"
    }
   ],
   "source": [
    "# group by personal_finance_category.detailed\n",
    "transactions_df['detailed_category'] = transactions_df.apply(lambda row: row['personal_finance_category']['detailed'], axis=1)\n",
    "transactions_df['primary_category'] = transactions_df.apply(lambda row: row['personal_finance_category']['primary'], axis=1)\n",
    "transactions_df.groupby(['detailed_category'])['amount'].mean()\n",
    "transactions_df.groupby(['primary_category'])['amount'].mean()"
   ],
   "metadata": {
    "collapsed": false,
    "pycharm": {
     "name": "#%%\n"
    }
   }
  },
  {
   "cell_type": "code",
   "execution_count": null,
   "outputs": [],
   "source": [],
   "metadata": {
    "collapsed": false,
    "pycharm": {
     "name": "#%%\n"
    }
   }
  }
 ],
 "metadata": {
  "kernelspec": {
   "display_name": "Python 3",
   "language": "python",
   "name": "python3"
  },
  "language_info": {
   "codemirror_mode": {
    "name": "ipython",
    "version": 2
   },
   "file_extension": ".py",
   "mimetype": "text/x-python",
   "name": "python",
   "nbconvert_exporter": "python",
   "pygments_lexer": "ipython2",
   "version": "2.7.6"
  }
 },
 "nbformat": 4,
 "nbformat_minor": 0
}