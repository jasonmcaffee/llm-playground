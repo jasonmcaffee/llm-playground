{
 "cells": [
  {
   "cell_type": "code",
   "execution_count": 1,
   "outputs": [
    {
     "name": "stdout",
     "output_type": "stream",
     "text": [
      "amount,date,name,merchant_name,category_detailed,category_primary\r\n",
      "25.0,2023-06-29,CREDIT CARD 3333 PAYMENT *//,,LOAN_PAYMENTS_CREDIT_CARD_PAYMENT,LOAN_PAYMENTS\r\n",
      "5.4,2023-06-29,Uber 063015 SF**POOL**,Uber,TRANSPORTATION_TAXIS_AND_RIDE_SHARES,TRANSPORTATION\r\n",
      "5850.0,2023-06-28,ACH Electronic CreditGUSTO PAY 123456,,RENT_AND_UTILITIES_RENT,RENT_AND_UTILITIES\r\n",
      "1000.0,2023-06-28,CD DEPOSIT .INITIAL.,,TRANSFER_OUT_SAVINGS,TRANSFER_OUT\r\n",
      "78.5,2023-06-27,Touchstone Climbing,,PERSONAL_CARE_GYMS_AND_FITNESS_CENTERS,PERSONAL_CARE\r\n",
      "-500.0,2023-06-27,United Airlines,United Airlines,TRAVEL_FLIGHTS,TRAVEL\r\n",
      "12.0,2023-06-26,McDonald's,McDonald's,FOOD_AND_DRINK_FAST_FOOD,FOOD_AND_DRINK\r\n",
      "4.33,2023-06-26,Starbucks,Starbucks,FOOD_AND_DRINK_COFFEE,FOOD_AND_DRINK\r\n",
      "89.4,2023-06-25,SparkFun,,FOOD_AND_DRINK_RESTAURANT,FOOD_AND_DRINK\r\n",
      "-4.22,2023-06-24,INTRST PYMNT,,TRANSFER_IN_ACCOUNT_TRANSFER,TRANSFER_IN\r\n",
      "500.0,2023-06-14,United Airlines,United Airlines,TRAVEL_FLIGHTS,TRAVEL\r\n",
      "6.33,2023-06-12,Uber 072515 SF**POOL**,Uber,TRANSPORTATION_TAXIS_AND_RIDE_SHARES,TRANSPORTATION\r\n",
      "500.0,2023-06-09,Tectra Inc,,RENT_AND_UTILITIES_RENT,RENT_AND_UTILITIES\r\n",
      "2078.5,2023-06-08,AUTOMATIC PAYMENT - THANK,,RENT_AND_UTILITIES_RENT,RENT_AND_UTILITIES\r\n",
      "500.0,2023-06-08,KFC,KFC,FOOD_AND_DRINK_FAST_FOOD,FOOD_AND_DRINK\r\n",
      "500.0,2023-06-08,Madison Bicycle Shop,,RENT_AND_UTILITIES_RENT,RENT_AND_UTILITIES\r\n",
      "25.0,2023-05-30,CREDIT CARD 3333 PAYMENT *//,,LOAN_PAYMENTS_CREDIT_CARD_PAYMENT,LOAN_PAYMENTS\r\n",
      "5.4,2023-05-30,Uber 063015 SF**POOL**,Uber,TRANSPORTATION_TAXIS_AND_RIDE_SHARES,TRANSPORTATION\r\n",
      "5850.0,2023-05-29,ACH Electronic CreditGUSTO PAY 123456,,RENT_AND_UTILITIES_RENT,RENT_AND_UTILITIES\r\n",
      "1000.0,2023-05-29,CD DEPOSIT .INITIAL.,,TRANSFER_OUT_SAVINGS,TRANSFER_OUT\r\n",
      "78.5,2023-05-28,Touchstone Climbing,,PERSONAL_CARE_GYMS_AND_FITNESS_CENTERS,PERSONAL_CARE\r\n",
      "-500.0,2023-05-28,United Airlines,United Airlines,TRAVEL_FLIGHTS,TRAVEL\r\n",
      "12.0,2023-05-27,McDonald's,McDonald's,FOOD_AND_DRINK_FAST_FOOD,FOOD_AND_DRINK\r\n",
      "4.33,2023-05-27,Starbucks,Starbucks,FOOD_AND_DRINK_COFFEE,FOOD_AND_DRINK\r\n",
      "89.4,2023-05-26,SparkFun,,FOOD_AND_DRINK_RESTAURANT,FOOD_AND_DRINK\r\n",
      "-4.22,2023-05-25,INTRST PYMNT,,TRANSFER_IN_ACCOUNT_TRANSFER,TRANSFER_IN\r\n",
      "500.0,2023-05-15,United Airlines,United Airlines,TRAVEL_FLIGHTS,TRAVEL\r\n",
      "6.33,2023-05-13,Uber 072515 SF**POOL**,Uber,TRANSPORTATION_TAXIS_AND_RIDE_SHARES,TRANSPORTATION\r\n",
      "500.0,2023-05-10,Tectra Inc,,RENT_AND_UTILITIES_RENT,RENT_AND_UTILITIES\r\n",
      "2078.5,2023-05-09,AUTOMATIC PAYMENT - THANK,,RENT_AND_UTILITIES_RENT,RENT_AND_UTILITIES\r\n",
      "500.0,2023-05-09,KFC,KFC,FOOD_AND_DRINK_FAST_FOOD,FOOD_AND_DRINK\r\n",
      "500.0,2023-05-09,Madison Bicycle Shop,,RENT_AND_UTILITIES_RENT,RENT_AND_UTILITIES\r\n",
      "25.0,2023-04-30,CREDIT CARD 3333 PAYMENT *//,,LOAN_PAYMENTS_CREDIT_CARD_PAYMENT,LOAN_PAYMENTS\r\n",
      "5.4,2023-04-30,Uber 063015 SF**POOL**,Uber,TRANSPORTATION_TAXIS_AND_RIDE_SHARES,TRANSPORTATION\r\n",
      "5850.0,2023-04-29,ACH Electronic CreditGUSTO PAY 123456,,RENT_AND_UTILITIES_RENT,RENT_AND_UTILITIES\r\n",
      "1000.0,2023-04-29,CD DEPOSIT .INITIAL.,,TRANSFER_OUT_SAVINGS,TRANSFER_OUT\r\n",
      "78.5,2023-04-28,Touchstone Climbing,,PERSONAL_CARE_GYMS_AND_FITNESS_CENTERS,PERSONAL_CARE\r\n",
      "-500.0,2023-04-28,United Airlines,United Airlines,TRAVEL_FLIGHTS,TRAVEL\r\n",
      "12.0,2023-04-27,McDonald's,McDonald's,FOOD_AND_DRINK_FAST_FOOD,FOOD_AND_DRINK\r\n",
      "4.33,2023-04-27,Starbucks,Starbucks,FOOD_AND_DRINK_COFFEE,FOOD_AND_DRINK\r\n",
      "89.4,2023-04-26,SparkFun,,FOOD_AND_DRINK_RESTAURANT,FOOD_AND_DRINK\r\n",
      "-4.22,2023-04-25,INTRST PYMNT,,TRANSFER_IN_ACCOUNT_TRANSFER,TRANSFER_IN\r\n",
      "500.0,2023-04-15,United Airlines,United Airlines,TRAVEL_FLIGHTS,TRAVEL\r\n",
      "6.33,2023-04-13,Uber 072515 SF**POOL**,Uber,TRANSPORTATION_TAXIS_AND_RIDE_SHARES,TRANSPORTATION\r\n",
      "500.0,2023-04-10,Tectra Inc,,RENT_AND_UTILITIES_RENT,RENT_AND_UTILITIES\r\n",
      "2078.5,2023-04-09,AUTOMATIC PAYMENT - THANK,,RENT_AND_UTILITIES_RENT,RENT_AND_UTILITIES\r\n",
      "500.0,2023-04-09,KFC,KFC,FOOD_AND_DRINK_FAST_FOOD,FOOD_AND_DRINK\r\n",
      "500.0,2023-04-09,Madison Bicycle Shop,,GENERAL_MERCHANDISE_SPORTING_GOODS,GENERAL_MERCHANDISE\r\n",
      "\n"
     ]
    }
   ],
   "source": [
    "from services.financial_data_service import FinancialDataService, convert_to_csv\n",
    "\n",
    "financial_data_service = FinancialDataService()\n",
    "transactions = financial_data_service.get_transactions()\n",
    "csv_transactions = convert_to_csv(transactions)\n",
    "print(csv_transactions)"
   ],
   "metadata": {
    "collapsed": false,
    "pycharm": {
     "name": "#%%\n"
    }
   }
  },
  {
   "cell_type": "code",
   "execution_count": 1,
   "outputs": [],
   "source": [],
   "metadata": {
    "collapsed": false,
    "pycharm": {
     "name": "#%%\n"
    }
   }
  }
 ],
 "metadata": {
  "kernelspec": {
   "display_name": "Python 3",
   "language": "python",
   "name": "python3"
  },
  "language_info": {
   "codemirror_mode": {
    "name": "ipython",
    "version": 2
   },
   "file_extension": ".py",
   "mimetype": "text/x-python",
   "name": "python",
   "nbconvert_exporter": "python",
   "pygments_lexer": "ipython2",
   "version": "2.7.6"
  }
 },
 "nbformat": 4,
 "nbformat_minor": 0
}