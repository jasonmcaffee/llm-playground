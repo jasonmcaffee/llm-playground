{
 "cells": [
  {
   "cell_type": "code",
   "execution_count": 1,
   "outputs": [
    {
     "name": "stdout",
     "output_type": "stream",
     "text": [
      "amount,date,name,category_detailed\r\n",
      "25.0,2023-06-29,CREDIT CARD 3333 PAYMENT *//,LOAN_PAYMENTS_CREDIT_CARD_PAYMENT\r\n",
      "5.4,2023-06-29,Uber 063015 SF**POOL**,TRANSPORTATION_TAXIS_AND_RIDE_SHARES\r\n",
      "5850.0,2023-06-28,ACH Electronic CreditGUSTO PAY 123456,RENT_AND_UTILITIES_RENT\r\n",
      "1000.0,2023-06-28,CD DEPOSIT .INITIAL.,TRANSFER_OUT_SAVINGS\r\n",
      "78.5,2023-06-27,Touchstone Climbing,PERSONAL_CARE_GYMS_AND_FITNESS_CENTERS\r\n",
      "-500.0,2023-06-27,United Airlines,TRAVEL_FLIGHTS\r\n",
      "12.0,2023-06-26,McDonald's,FOOD_AND_DRINK_FAST_FOOD\r\n",
      "4.33,2023-06-26,Starbucks,FOOD_AND_DRINK_COFFEE\r\n",
      "89.4,2023-06-25,SparkFun,FOOD_AND_DRINK_RESTAURANT\r\n",
      "-4.22,2023-06-24,INTRST PYMNT,TRANSFER_IN_ACCOUNT_TRANSFER\r\n",
      "500.0,2023-06-14,United Airlines,TRAVEL_FLIGHTS\r\n",
      "6.33,2023-06-12,Uber 072515 SF**POOL**,TRANSPORTATION_TAXIS_AND_RIDE_SHARES\r\n",
      "500.0,2023-06-09,Tectra Inc,RENT_AND_UTILITIES_RENT\r\n",
      "2078.5,2023-06-08,AUTOMATIC PAYMENT - THANK,RENT_AND_UTILITIES_RENT\r\n",
      "500.0,2023-06-08,KFC,FOOD_AND_DRINK_FAST_FOOD\r\n",
      "500.0,2023-06-08,Madison Bicycle Shop,RENT_AND_UTILITIES_RENT\r\n",
      "25.0,2023-05-30,CREDIT CARD 3333 PAYMENT *//,LOAN_PAYMENTS_CREDIT_CARD_PAYMENT\r\n",
      "5.4,2023-05-30,Uber 063015 SF**POOL**,TRANSPORTATION_TAXIS_AND_RIDE_SHARES\r\n",
      "5850.0,2023-05-29,ACH Electronic CreditGUSTO PAY 123456,RENT_AND_UTILITIES_RENT\r\n",
      "1000.0,2023-05-29,CD DEPOSIT .INITIAL.,TRANSFER_OUT_SAVINGS\r\n",
      "78.5,2023-05-28,Touchstone Climbing,PERSONAL_CARE_GYMS_AND_FITNESS_CENTERS\r\n",
      "-500.0,2023-05-28,United Airlines,TRAVEL_FLIGHTS\r\n",
      "12.0,2023-05-27,McDonald's,FOOD_AND_DRINK_FAST_FOOD\r\n",
      "4.33,2023-05-27,Starbucks,FOOD_AND_DRINK_COFFEE\r\n",
      "89.4,2023-05-26,SparkFun,FOOD_AND_DRINK_RESTAURANT\r\n",
      "-4.22,2023-05-25,INTRST PYMNT,TRANSFER_IN_ACCOUNT_TRANSFER\r\n",
      "500.0,2023-05-15,United Airlines,TRAVEL_FLIGHTS\r\n",
      "6.33,2023-05-13,Uber 072515 SF**POOL**,TRANSPORTATION_TAXIS_AND_RIDE_SHARES\r\n",
      "500.0,2023-05-10,Tectra Inc,RENT_AND_UTILITIES_RENT\r\n",
      "2078.5,2023-05-09,AUTOMATIC PAYMENT - THANK,RENT_AND_UTILITIES_RENT\r\n",
      "500.0,2023-05-09,KFC,FOOD_AND_DRINK_FAST_FOOD\r\n",
      "500.0,2023-05-09,Madison Bicycle Shop,RENT_AND_UTILITIES_RENT\r\n",
      "25.0,2023-04-30,CREDIT CARD 3333 PAYMENT *//,LOAN_PAYMENTS_CREDIT_CARD_PAYMENT\r\n",
      "5.4,2023-04-30,Uber 063015 SF**POOL**,TRANSPORTATION_TAXIS_AND_RIDE_SHARES\r\n",
      "5850.0,2023-04-29,ACH Electronic CreditGUSTO PAY 123456,RENT_AND_UTILITIES_RENT\r\n",
      "1000.0,2023-04-29,CD DEPOSIT .INITIAL.,TRANSFER_OUT_SAVINGS\r\n",
      "78.5,2023-04-28,Touchstone Climbing,PERSONAL_CARE_GYMS_AND_FITNESS_CENTERS\r\n",
      "-500.0,2023-04-28,United Airlines,TRAVEL_FLIGHTS\r\n",
      "12.0,2023-04-27,McDonald's,FOOD_AND_DRINK_FAST_FOOD\r\n",
      "4.33,2023-04-27,Starbucks,FOOD_AND_DRINK_COFFEE\r\n",
      "89.4,2023-04-26,SparkFun,FOOD_AND_DRINK_RESTAURANT\r\n",
      "-4.22,2023-04-25,INTRST PYMNT,TRANSFER_IN_ACCOUNT_TRANSFER\r\n",
      "500.0,2023-04-15,United Airlines,TRAVEL_FLIGHTS\r\n",
      "6.33,2023-04-13,Uber 072515 SF**POOL**,TRANSPORTATION_TAXIS_AND_RIDE_SHARES\r\n",
      "500.0,2023-04-10,Tectra Inc,RENT_AND_UTILITIES_RENT\r\n",
      "2078.5,2023-04-09,AUTOMATIC PAYMENT - THANK,RENT_AND_UTILITIES_RENT\r\n",
      "500.0,2023-04-09,KFC,FOOD_AND_DRINK_FAST_FOOD\r\n",
      "500.0,2023-04-09,Madison Bicycle Shop,GENERAL_MERCHANDISE_SPORTING_GOODS\r\n",
      "25.0,2023-03-31,CREDIT CARD 3333 PAYMENT *//,LOAN_PAYMENTS_CREDIT_CARD_PAYMENT\r\n",
      "5.4,2023-03-31,Uber 063015 SF**POOL**,TRANSPORTATION_TAXIS_AND_RIDE_SHARES\r\n",
      "5850.0,2023-03-30,ACH Electronic CreditGUSTO PAY 123456,RENT_AND_UTILITIES_RENT\r\n",
      "1000.0,2023-03-30,CD DEPOSIT .INITIAL.,TRANSFER_OUT_SAVINGS\r\n",
      "78.5,2023-03-29,Touchstone Climbing,PERSONAL_CARE_GYMS_AND_FITNESS_CENTERS\r\n",
      "-500.0,2023-03-29,United Airlines,TRAVEL_FLIGHTS\r\n",
      "12.0,2023-03-28,McDonald's,FOOD_AND_DRINK_FAST_FOOD\r\n",
      "4.33,2023-03-28,Starbucks,FOOD_AND_DRINK_COFFEE\r\n",
      "89.4,2023-03-27,SparkFun,FOOD_AND_DRINK_RESTAURANT\r\n",
      "-4.22,2023-03-26,INTRST PYMNT,TRANSFER_IN_ACCOUNT_TRANSFER\r\n",
      "500.0,2023-03-16,United Airlines,TRAVEL_FLIGHTS\r\n",
      "6.33,2023-03-14,Uber 072515 SF**POOL**,TRANSPORTATION_TAXIS_AND_RIDE_SHARES\r\n",
      "500.0,2023-03-11,Tectra Inc,RENT_AND_UTILITIES_RENT\r\n",
      "2078.5,2023-03-10,AUTOMATIC PAYMENT - THANK,RENT_AND_UTILITIES_RENT\r\n",
      "500.0,2023-03-10,KFC,FOOD_AND_DRINK_FAST_FOOD\r\n",
      "500.0,2023-03-10,Madison Bicycle Shop,RENT_AND_UTILITIES_RENT\r\n",
      "25.0,2023-03-01,CREDIT CARD 3333 PAYMENT *//,LOAN_PAYMENTS_CREDIT_CARD_PAYMENT\r\n",
      "5.4,2023-03-01,Uber 063015 SF**POOL**,TRANSPORTATION_TAXIS_AND_RIDE_SHARES\r\n",
      "5850.0,2023-02-28,ACH Electronic CreditGUSTO PAY 123456,RENT_AND_UTILITIES_RENT\r\n",
      "1000.0,2023-02-28,CD DEPOSIT .INITIAL.,TRANSFER_OUT_SAVINGS\r\n",
      "78.5,2023-02-27,Touchstone Climbing,PERSONAL_CARE_GYMS_AND_FITNESS_CENTERS\r\n",
      "-500.0,2023-02-27,United Airlines,TRAVEL_FLIGHTS\r\n",
      "12.0,2023-02-26,McDonald's,FOOD_AND_DRINK_FAST_FOOD\r\n",
      "4.33,2023-02-26,Starbucks,FOOD_AND_DRINK_COFFEE\r\n",
      "89.4,2023-02-25,SparkFun,FOOD_AND_DRINK_RESTAURANT\r\n",
      "-4.22,2023-02-24,INTRST PYMNT,TRANSFER_IN_ACCOUNT_TRANSFER\r\n",
      "500.0,2023-02-14,United Airlines,TRAVEL_FLIGHTS\r\n",
      "6.33,2023-02-12,Uber 072515 SF**POOL**,TRANSPORTATION_TAXIS_AND_RIDE_SHARES\r\n",
      "500.0,2023-02-09,Tectra Inc,RENT_AND_UTILITIES_RENT\r\n",
      "2078.5,2023-02-08,AUTOMATIC PAYMENT - THANK,RENT_AND_UTILITIES_RENT\r\n",
      "500.0,2023-02-08,KFC,FOOD_AND_DRINK_FAST_FOOD\r\n",
      "500.0,2023-02-08,Madison Bicycle Shop,RENT_AND_UTILITIES_RENT\r\n",
      "25.0,2023-01-30,CREDIT CARD 3333 PAYMENT *//,LOAN_PAYMENTS_CREDIT_CARD_PAYMENT\r\n",
      "5.4,2023-01-30,Uber 063015 SF**POOL**,TRANSPORTATION_TAXIS_AND_RIDE_SHARES\r\n",
      "5850.0,2023-01-29,ACH Electronic CreditGUSTO PAY 123456,RENT_AND_UTILITIES_RENT\r\n",
      "1000.0,2023-01-29,CD DEPOSIT .INITIAL.,TRANSFER_OUT_SAVINGS\r\n",
      "78.5,2023-01-28,Touchstone Climbing,PERSONAL_CARE_GYMS_AND_FITNESS_CENTERS\r\n",
      "-500.0,2023-01-28,United Airlines,TRAVEL_FLIGHTS\r\n",
      "12.0,2023-01-27,McDonald's,FOOD_AND_DRINK_FAST_FOOD\r\n",
      "4.33,2023-01-27,Starbucks,FOOD_AND_DRINK_COFFEE\r\n",
      "89.4,2023-01-26,SparkFun,FOOD_AND_DRINK_RESTAURANT\r\n",
      "-4.22,2023-01-25,INTRST PYMNT,TRANSFER_IN_ACCOUNT_TRANSFER\r\n",
      "500.0,2023-01-15,United Airlines,TRAVEL_FLIGHTS\r\n",
      "6.33,2023-01-13,Uber 072515 SF**POOL**,TRANSPORTATION_TAXIS_AND_RIDE_SHARES\r\n",
      "500.0,2023-01-10,Tectra Inc,RENT_AND_UTILITIES_RENT\r\n",
      "2078.5,2023-01-09,AUTOMATIC PAYMENT - THANK,RENT_AND_UTILITIES_RENT\r\n",
      "500.0,2023-01-09,KFC,FOOD_AND_DRINK_FAST_FOOD\r\n",
      "500.0,2023-01-09,Madison Bicycle Shop,RENT_AND_UTILITIES_RENT\r\n",
      "25.0,2022-12-31,CREDIT CARD 3333 PAYMENT *//,LOAN_PAYMENTS_CREDIT_CARD_PAYMENT\r\n",
      "5.4,2022-12-31,Uber 063015 SF**POOL**,TRANSPORTATION_TAXIS_AND_RIDE_SHARES\r\n",
      "5850.0,2022-12-30,ACH Electronic CreditGUSTO PAY 123456,RENT_AND_UTILITIES_RENT\r\n",
      "1000.0,2022-12-30,CD DEPOSIT .INITIAL.,TRANSFER_OUT_SAVINGS\r\n",
      "\n"
     ]
    }
   ],
   "source": [
    "from services.financial_data_service import FinancialDataService, convert_to_csv\n",
    "\n",
    "financial_data_service = FinancialDataService()\n",
    "transactions = financial_data_service.get_transactions()\n",
    "csv_transactions = convert_to_csv(transactions)\n",
    "print(csv_transactions)"
   ],
   "metadata": {
    "collapsed": false,
    "pycharm": {
     "name": "#%%\n"
    }
   }
  },
  {
   "cell_type": "code",
   "execution_count": 2,
   "outputs": [
    {
     "name": "stdout",
     "output_type": "stream",
     "text": [
      "token_count: 2601 remaining_tokens: 1495 average_tokens_per_transaction: 26.01\n"
     ]
    }
   ],
   "source": [
    "from services.token_calculator import calculate_number_of_tokens_for_gpt3point5\n",
    "token_count, remaining_tokens = calculate_number_of_tokens_for_gpt3point5(csv_transactions)\n",
    "average_tokens_per_transaction = token_count / len(transactions)\n",
    "print(f\"token_count: {token_count} remaining_tokens: {remaining_tokens} average_tokens_per_transaction: {average_tokens_per_transaction}\")"
   ],
   "metadata": {
    "collapsed": false,
    "pycharm": {
     "name": "#%%\n"
    }
   }
  },
  {
   "cell_type": "code",
   "execution_count": 2,
   "outputs": [],
   "source": [],
   "metadata": {
    "collapsed": false,
    "pycharm": {
     "name": "#%%\n"
    }
   }
  }
 ],
 "metadata": {
  "kernelspec": {
   "display_name": "Python 3",
   "language": "python",
   "name": "python3"
  },
  "language_info": {
   "codemirror_mode": {
    "name": "ipython",
    "version": 2
   },
   "file_extension": ".py",
   "mimetype": "text/x-python",
   "name": "python",
   "nbconvert_exporter": "python",
   "pygments_lexer": "ipython2",
   "version": "2.7.6"
  }
 },
 "nbformat": 4,
 "nbformat_minor": 0
}